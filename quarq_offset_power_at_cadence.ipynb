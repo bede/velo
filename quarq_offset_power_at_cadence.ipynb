{
 "cells": [
  {
   "cell_type": "markdown",
   "metadata": {},
   "source": [
    "# Quarq zero offset to power at cadence\n",
    "\n",
    "Zero offsets should be performed at the beginning and end of each ride to ensure that a power meter is reporting with relative if not absolute accuracy. Quarq power meters report torque/zero offsets in units of `1/32 Nm`. Others may work the same? \n",
    "\n",
    "*e.g.* If your Quarq power meter's zero offset value drifts by 17 points during a ride of 80RPM mean cadence, the drift will cause the reported power at mean cadence to vary by `2*math.pi*(80/60)*(17/32) = 5.5W` over the course of the ride. This could be useful information for interpreting power data.\n",
    "\n",
    "**TL;DR a `30` point drift in zero offset is worth about `10W` at `100RPM`**\n"
   ]
  },
  {
   "cell_type": "code",
   "execution_count": 2,
   "metadata": {},
   "outputs": [],
   "source": [
    "import math\n",
    "import pandas as pd\n",
    "from ipywidgets import interact, interactive, fixed, interact_manual"
   ]
  },
  {
   "cell_type": "code",
   "execution_count": 3,
   "metadata": {},
   "outputs": [],
   "source": [
    "def offset_power(offset=1, cadence=100):\n",
    "    return 2*math.pi*(cadence/60)*(offset/32)\n",
    "\n",
    "def offset_power_widget(offset=1, cadence=100):\n",
    "    power = offset_power(offset, cadence)\n",
    "    return f'{round(power, 3)} Watts'"
   ]
  },
  {
   "cell_type": "markdown",
   "metadata": {},
   "source": [
    "## Relationship between zero offset and power with varying cadence\n",
    "\n",
    "Table refers to a single point change in reported zero offset"
   ]
  },
  {
   "cell_type": "code",
   "execution_count": 4,
   "metadata": {},
   "outputs": [
    {
     "data": {
      "text/html": [
       "<div>\n",
       "<style scoped>\n",
       "    .dataframe tbody tr th:only-of-type {\n",
       "        vertical-align: middle;\n",
       "    }\n",
       "\n",
       "    .dataframe tbody tr th {\n",
       "        vertical-align: top;\n",
       "    }\n",
       "\n",
       "    .dataframe thead th {\n",
       "        text-align: right;\n",
       "    }\n",
       "</style>\n",
       "<table border=\"1\" class=\"dataframe\">\n",
       "  <thead>\n",
       "    <tr style=\"text-align: right;\">\n",
       "      <th></th>\n",
       "      <th>Cadence (RPM)</th>\n",
       "      <th>Power (W)</th>\n",
       "    </tr>\n",
       "  </thead>\n",
       "  <tbody>\n",
       "    <tr>\n",
       "      <th>0</th>\n",
       "      <td>80</td>\n",
       "      <td>0.262</td>\n",
       "    </tr>\n",
       "    <tr>\n",
       "      <th>1</th>\n",
       "      <td>90</td>\n",
       "      <td>0.295</td>\n",
       "    </tr>\n",
       "    <tr>\n",
       "      <th>2</th>\n",
       "      <td>100</td>\n",
       "      <td>0.327</td>\n",
       "    </tr>\n",
       "    <tr>\n",
       "      <th>3</th>\n",
       "      <td>110</td>\n",
       "      <td>0.360</td>\n",
       "    </tr>\n",
       "    <tr>\n",
       "      <th>4</th>\n",
       "      <td>120</td>\n",
       "      <td>0.393</td>\n",
       "    </tr>\n",
       "  </tbody>\n",
       "</table>\n",
       "</div>"
      ],
      "text/plain": [
       "   Cadence (RPM)  Power (W)\n",
       "0             80      0.262\n",
       "1             90      0.295\n",
       "2            100      0.327\n",
       "3            110      0.360\n",
       "4            120      0.393"
      ]
     },
     "execution_count": 4,
     "metadata": {},
     "output_type": "execute_result"
    }
   ],
   "source": [
    "cadences = list(range(80, 130, 10))\n",
    "powers = [offset_power(cadence=c) for c in cadences]\n",
    "powers_round = [round(p, 3) for p in powers]\n",
    "df = pd.DataFrame(list(zip(cadences, powers_round)))\n",
    "df.columns = ['Cadence (RPM)', 'Power (W)']\n",
    "df"
   ]
  },
  {
   "cell_type": "markdown",
   "metadata": {},
   "source": [
    "## Interactive calculator"
   ]
  },
  {
   "cell_type": "code",
   "execution_count": 5,
   "metadata": {},
   "outputs": [
    {
     "data": {
      "application/vnd.jupyter.widget-view+json": {
       "model_id": "55673644eddf40d28b543857a8901677",
       "version_major": 2,
       "version_minor": 0
      },
      "text/plain": [
       "interactive(children=(IntSlider(value=1, description='offset', max=200, min=1), IntSlider(value=100, descripti…"
      ]
     },
     "metadata": {},
     "output_type": "display_data"
    },
    {
     "data": {
      "text/plain": [
       "<function __main__.offset_power_widget(offset=1, cadence=100)>"
      ]
     },
     "execution_count": 5,
     "metadata": {},
     "output_type": "execute_result"
    }
   ],
   "source": [
    "interact(offset_power_widget, offset=(1,200), cadence=(0,200, 5))"
   ]
  }
 ],
 "metadata": {
  "kernelspec": {
   "display_name": "Python 3",
   "language": "python",
   "name": "python3"
  },
  "language_info": {
   "codemirror_mode": {
    "name": "ipython",
    "version": 3
   },
   "file_extension": ".py",
   "mimetype": "text/x-python",
   "name": "python",
   "nbconvert_exporter": "python",
   "pygments_lexer": "ipython3",
   "version": "3.7.0"
  }
 },
 "nbformat": 4,
 "nbformat_minor": 2
}
